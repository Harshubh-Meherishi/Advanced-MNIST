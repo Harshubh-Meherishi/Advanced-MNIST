{
  "nbformat": 4,
  "nbformat_minor": 0,
  "metadata": {
    "colab": {
      "name": "Inkers.ipynb",
      "provenance": [],
      "collapsed_sections": []
    },
    "kernelspec": {
      "name": "python3",
      "display_name": "Python 3"
    },
    "accelerator": "GPU"
  },
  "cells": [
    {
      "cell_type": "code",
      "metadata": {
        "id": "1PRauYZXN-Nq"
      },
      "source": [
        "from __future__ import print_function\r\n",
        "\r\n",
        "import torch\r\n",
        "import torch.nn as nn\r\n",
        "import torch.nn.functional as F\r\n",
        "import torch.optim as optim\r\n",
        "from torch.optim.lr_scheduler import StepLR\r\n",
        "\r\n",
        "from torchvision import transforms\r\n",
        "from torch.utils.data import Dataset, DataLoader\r\n",
        "\r\n",
        "from torchsummary import summary\r\n",
        "from tqdm import tqdm\r\n",
        "\r\n",
        "import numpy as np\r\n",
        "import matplotlib.pyplot as plt\r\n",
        "plt.rcParams['figure.figsize'] = (10,5)"
      ],
      "execution_count": null,
      "outputs": []
    },
    {
      "cell_type": "code",
      "metadata": {
        "colab": {
          "base_uri": "https://localhost:8080/"
        },
        "id": "UixRCoYkSeBe",
        "outputId": "1bdb0681-53f2-4f54-a405-7a45ccc4e740"
      },
      "source": [
        "import tensorflow as tf\r\n",
        "\r\n",
        "device_name = tf.test.gpu_device_name()\r\n",
        "\r\n",
        "try:\r\n",
        "    print(f\"Found GPU at : {device_name}\")\r\n",
        "except:\r\n",
        "    print(\"GPU device not found.\")"
      ],
      "execution_count": null,
      "outputs": [
        {
          "output_type": "stream",
          "text": [
            "Found GPU at : /device:GPU:0\n"
          ],
          "name": "stdout"
        }
      ]
    },
    {
      "cell_type": "code",
      "metadata": {
        "colab": {
          "base_uri": "https://localhost:8080/"
        },
        "id": "xpj65CQbTIu0",
        "outputId": "7cbf91f4-18a0-46c8-e471-9efb2e587f11"
      },
      "source": [
        "import torch\r\n",
        "\r\n",
        "if torch.cuda.is_available():\r\n",
        "    device = torch.device(\"cuda\")\r\n",
        "    use_cuda = True\r\n",
        "    print(f\"Number of GPU's available : {torch.cuda.device_count()}\")\r\n",
        "    print(f\"GPU device name : {torch.cuda.get_device_name(0)}\")\r\n",
        "else:\r\n",
        "    print(\"No GPU available, using CPU instead\")\r\n",
        "    device = torch.device(\"cpu\")\r\n",
        "    use_cuda = False"
      ],
      "execution_count": null,
      "outputs": [
        {
          "output_type": "stream",
          "text": [
            "Number of GPU's available : 1\n",
            "GPU device name : Tesla T4\n"
          ],
          "name": "stdout"
        }
      ]
    },
    {
      "cell_type": "code",
      "metadata": {
        "colab": {
          "base_uri": "https://localhost:8080/"
        },
        "id": "5atelB5jTSre",
        "outputId": "85832020-7730-4e6e-bd91-a82225e048ab"
      },
      "source": [
        "import pandas as pd\r\n",
        "#read train.csv and test.csv\r\n",
        "train_df = pd.read_csv(\"/content/drive/MyDrive/train.csv\")\r\n",
        "test_df = pd.read_csv(\"/content/drive/MyDrive/test.csv\")\r\n",
        "#check shape of datasets\r\n",
        "train_df.shape, test_df.shape"
      ],
      "execution_count": null,
      "outputs": [
        {
          "output_type": "execute_result",
          "data": {
            "text/plain": [
              "((42000, 785), (28000, 784))"
            ]
          },
          "metadata": {
            "tags": []
          },
          "execution_count": 4
        }
      ]
    },
    {
      "cell_type": "code",
      "metadata": {
        "id": "nHjXWn7XWj1v"
      },
      "source": [
        "from PIL import Image\r\n",
        "class MyDataset(Dataset):\r\n",
        "    \r\n",
        "    def __init__(self, df, train=False, transform=None):\r\n",
        "        self.df = df\r\n",
        "        self.transform = transform\r\n",
        "        self.train = train\r\n",
        "        \r\n",
        "        if train:\r\n",
        "            self.y_data = torch.tensor(np.asarray(self.df['label'].values))\r\n",
        "            self.X_data = np.asarray(self.df.drop('label', axis=1).values).reshape(self.df.shape[0], 28, 28)\r\n",
        "        else:\r\n",
        "            self.X_data = np.asarray(self.df.values).reshape(self.df.shape[0], 28, 28)\r\n",
        "            \r\n",
        "        \r\n",
        "    def __getitem__(self, index):\r\n",
        "             \r\n",
        "        image = self.X_data[index]\r\n",
        "        image = Image.fromarray(np.uint8(image), mode='L')\r\n",
        "        \r\n",
        "        if self.transform:\r\n",
        "            image = self.transform(image)\r\n",
        "\r\n",
        "        if self.train:\r\n",
        "            return image, self.y_data[index]\r\n",
        "        else:\r\n",
        "            return image\r\n",
        "            \r\n",
        "    \r\n",
        "    def __len__(self):\r\n",
        "        return self.df.shape[0]"
      ],
      "execution_count": null,
      "outputs": []
    },
    {
      "cell_type": "code",
      "metadata": {
        "id": "JWjl4wXWXBUP"
      },
      "source": [
        "#training data transformation\r\n",
        "train_transforms = transforms.Compose([\r\n",
        "                                       transforms.ColorJitter(brightness=0.10, contrast=0.1, saturation=0.10, hue=0.1),\r\n",
        "                                       transforms.RandomRotation((-7,7), fill=(1,)),\r\n",
        "                                       transforms.ToTensor(),\r\n",
        "                                       transforms.Normalize((0.1307,),(0.3081,))\r\n",
        "])\r\n",
        "\r\n",
        "#validation data transformation\r\n",
        "val_transforms = transforms.Compose([\r\n",
        "                                       transforms.ToTensor(),\r\n",
        "                                       transforms.Normalize((0.1307,),(0.3081,)),\r\n",
        "])\r\n",
        "\r\n",
        "#testing data transformation\r\n",
        "test_transforms = transforms.Compose([\r\n",
        "                                       transforms.ToTensor(),\r\n",
        "                                       transforms.Normalize((0.1307,),(0.3081,)),\r\n",
        "])"
      ],
      "execution_count": null,
      "outputs": []
    },
    {
      "cell_type": "code",
      "metadata": {
        "colab": {
          "base_uri": "https://localhost:8080/"
        },
        "id": "BoipWSd2Xay7",
        "outputId": "388e5751-1140-4a0e-fd22-36dc423ac89d"
      },
      "source": [
        "from sklearn.model_selection import train_test_split\r\n",
        "train_df, val_df = train_test_split(train_df, test_size=0.2, stratify=train_df['label'])\r\n",
        "train_df.shape, val_df.shape"
      ],
      "execution_count": null,
      "outputs": [
        {
          "output_type": "execute_result",
          "data": {
            "text/plain": [
              "((33600, 785), (8400, 785))"
            ]
          },
          "metadata": {
            "tags": []
          },
          "execution_count": 7
        }
      ]
    },
    {
      "cell_type": "code",
      "metadata": {
        "id": "XCflxxetYHyo"
      },
      "source": [
        "kwargs = {'num_workers': 4, 'pin_memory': True} if use_cuda else {}\r\n",
        "# get train, val and test dataset\r\n",
        "train_dataset = MyDataset(train_df, train=True, transform=train_transforms)\r\n",
        "val_dataset = MyDataset(val_df, train=True, transform=val_transforms)\r\n",
        "test_dataset = MyDataset(test_df, train=False, transform=test_transforms)\r\n"
      ],
      "execution_count": null,
      "outputs": []
    },
    {
      "cell_type": "code",
      "metadata": {
        "id": "Ks7sNcNtaJLN"
      },
      "source": [
        "# get train, val and test dataloader\r\n",
        "train_loader = torch.utils.data.DataLoader(train_dataset, batch_size=64, shuffle=True, **kwargs)\r\n",
        "val_loader = torch.utils.data.DataLoader(val_dataset, batch_size=64, shuffle=True, **kwargs)\r\n",
        "test_loader = torch.utils.data.DataLoader(test_dataset, batch_size=64, shuffle=False, **kwargs)"
      ],
      "execution_count": null,
      "outputs": []
    },
    {
      "cell_type": "code",
      "metadata": {
        "id": "xeFYPMr_aMGu"
      },
      "source": [
        "\r\n",
        "class Net(nn.Module):\r\n",
        "    def __init__(self):\r\n",
        "        super(Net, self).__init__()\r\n",
        "        \r\n",
        "        self.conv1block = nn.Sequential(\r\n",
        "            nn.Conv2d(1, 8, 3),                            #(-1,28,28,1)>(-1,3,3,1,8)>(-1,26,26,8)>3\r\n",
        "            nn.BatchNorm2d(8),\r\n",
        "            nn.ReLU(),\r\n",
        "            nn.Conv2d(8, 8, 3),                           #(-1,26,26,8)>(-1,3,3,8,8)>(-1,24,24,8)>5\r\n",
        "            nn.BatchNorm2d(8),\r\n",
        "            nn.ReLU(),\r\n",
        "            nn.Conv2d(8, 10, 3),                           #(-1,24,24,8)>(-1,3,3,8,10)>(-1,22,22,10)>7\r\n",
        "            nn.BatchNorm2d(10),\r\n",
        "            nn.ReLU(),\r\n",
        "        )\r\n",
        "\r\n",
        "        self.pool1block = nn.Sequential(\r\n",
        "            nn.MaxPool2d(2,2),                              #(-1,22,22,10)>(-1,11,11,10)>8\r\n",
        "        )\r\n",
        "\r\n",
        "        self.conv2block = nn.Sequential(\r\n",
        "            nn.Conv2d(10, 16, 3),                           #(-1,11,11,10)>(-1,3,3,10,16)>(-1,9,9,16)>12\r\n",
        "            nn.BatchNorm2d(16),\r\n",
        "            nn.ReLU(),\r\n",
        "            nn.Dropout(0.01),\r\n",
        "            nn.Conv2d(16, 16, 3),                           #(-1,9,9,16)>(-1,3,3,16,16)>(-1,7,7,16)>16\r\n",
        "            nn.BatchNorm2d(16),\r\n",
        "            nn.ReLU(),\r\n",
        "            nn.Dropout(0.01),\r\n",
        "            nn.Conv2d(16, 16, 3),                           #(-1,7,7,16)>(-1,3,3,16,16)>(-1,5,5,16)>20\r\n",
        "            nn.BatchNorm2d(16),\r\n",
        "            nn.ReLU(),\r\n",
        "            nn.Dropout(0.01),\r\n",
        "        )\r\n",
        "\r\n",
        "        self.avgpool = nn.AvgPool2d(5)                      #(-1,5,5,16)>(-1,1,1,16)>28\r\n",
        "        self.conv3 = nn.Conv2d(16, 10, 1)                   #(-1,1,1,16)>(-1,1,1,16,10)>(-1,1,1,10)>28  \r\n",
        "\r\n",
        "        \r\n",
        "    def forward(self, x):\r\n",
        "        x = self.conv1block(x)\r\n",
        "        x = self.pool1block(x)\r\n",
        "        x = self.conv2block(x)\r\n",
        "        x = self.avgpool(x)\r\n",
        "        x = self.conv3(x)\r\n",
        "        x = x.view(-1, 10)\r\n",
        "        return F.log_softmax(x)"
      ],
      "execution_count": null,
      "outputs": []
    },
    {
      "cell_type": "code",
      "metadata": {
        "colab": {
          "base_uri": "https://localhost:8080/"
        },
        "id": "Ml2L_jRYaVOw",
        "outputId": "fafce9a2-7993-4e4d-afcc-52a8d1fdb007"
      },
      "source": [
        "model = Net().to(device)\r\n",
        "summary(model, input_size=(1, 28, 28))"
      ],
      "execution_count": null,
      "outputs": [
        {
          "output_type": "stream",
          "text": [
            "----------------------------------------------------------------\n",
            "        Layer (type)               Output Shape         Param #\n",
            "================================================================\n",
            "            Conv2d-1            [-1, 8, 26, 26]              80\n",
            "       BatchNorm2d-2            [-1, 8, 26, 26]              16\n",
            "              ReLU-3            [-1, 8, 26, 26]               0\n",
            "            Conv2d-4            [-1, 8, 24, 24]             584\n",
            "       BatchNorm2d-5            [-1, 8, 24, 24]              16\n",
            "              ReLU-6            [-1, 8, 24, 24]               0\n",
            "            Conv2d-7           [-1, 10, 22, 22]             730\n",
            "       BatchNorm2d-8           [-1, 10, 22, 22]              20\n",
            "              ReLU-9           [-1, 10, 22, 22]               0\n",
            "        MaxPool2d-10           [-1, 10, 11, 11]               0\n",
            "           Conv2d-11             [-1, 16, 9, 9]           1,456\n",
            "      BatchNorm2d-12             [-1, 16, 9, 9]              32\n",
            "             ReLU-13             [-1, 16, 9, 9]               0\n",
            "          Dropout-14             [-1, 16, 9, 9]               0\n",
            "           Conv2d-15             [-1, 16, 7, 7]           2,320\n",
            "      BatchNorm2d-16             [-1, 16, 7, 7]              32\n",
            "             ReLU-17             [-1, 16, 7, 7]               0\n",
            "          Dropout-18             [-1, 16, 7, 7]               0\n",
            "           Conv2d-19             [-1, 16, 5, 5]           2,320\n",
            "      BatchNorm2d-20             [-1, 16, 5, 5]              32\n",
            "             ReLU-21             [-1, 16, 5, 5]               0\n",
            "          Dropout-22             [-1, 16, 5, 5]               0\n",
            "        AvgPool2d-23             [-1, 16, 1, 1]               0\n",
            "           Conv2d-24             [-1, 10, 1, 1]             170\n",
            "================================================================\n",
            "Total params: 7,808\n",
            "Trainable params: 7,808\n",
            "Non-trainable params: 0\n",
            "----------------------------------------------------------------\n",
            "Input size (MB): 0.00\n",
            "Forward/backward pass size (MB): 0.43\n",
            "Params size (MB): 0.03\n",
            "Estimated Total Size (MB): 0.46\n",
            "----------------------------------------------------------------\n"
          ],
          "name": "stdout"
        },
        {
          "output_type": "stream",
          "text": [
            "/usr/local/lib/python3.6/dist-packages/ipykernel_launcher.py:48: UserWarning: Implicit dimension choice for log_softmax has been deprecated. Change the call to include dim=X as an argument.\n"
          ],
          "name": "stderr"
        }
      ]
    },
    {
      "cell_type": "code",
      "metadata": {
        "id": "fcILGm4caYoe"
      },
      "source": [
        "def regularize_loss(model, loss, decay, norm_value):\r\n",
        "    r_loss = 0\r\n",
        "    # get sum of norm of parameters\r\n",
        "    for param in model.parameters():\r\n",
        "        r_loss += torch.norm(param, norm_value)\r\n",
        "    # update loss value\r\n",
        "    loss += decay * r_loss\r\n",
        "\r\n",
        "    return loss"
      ],
      "execution_count": null,
      "outputs": []
    },
    {
      "cell_type": "code",
      "metadata": {
        "id": "v0y6qfpMaiLd"
      },
      "source": [
        "def save_ckp(state, checkpoint_fpath):\r\n",
        "    \r\n",
        "    f_path = checkpoint_fpath\r\n",
        "    # save checkpoint data to the path given, checkpoint_path\r\n",
        "    torch.save(state, f_path)\r\n",
        "    \r\n",
        "def load_ckp(checkpoint_fpath, model, optimizer):\r\n",
        "    \r\n",
        "    # load check point\r\n",
        "    checkpoint = torch.load(checkpoint_fpath)\r\n",
        "    # initialize state_dict from checkpoint to model\r\n",
        "    model.load_state_dict(checkpoint['state_dict'])\r\n",
        "    # initialize optimizer from checkpoint to optimizer\r\n",
        "    optimizer.load_state_dict(checkpoint['optimizer'])\r\n",
        "    # get epoch\r\n",
        "    epoch = checkpoint['epoch']\r\n",
        "    # get val_max_acc\r\n",
        "    val_max_acc = checkpoint['valid_max_acc']\r\n",
        "    # get misclassified images\r\n",
        "    misclassified_images = checkpoint['misclassified_images']\r\n",
        "    # return model, optimizer, epoch, val_max_acc, misclassified_images\r\n",
        "    return model, optimizer, epoch, val_max_acc, misclassified_images"
      ],
      "execution_count": null,
      "outputs": []
    },
    {
      "cell_type": "markdown",
      "metadata": {
        "id": "FRRMEae5bjx1"
      },
      "source": [
        "**Here,I will define our network for training. This network has less than 8k parameters with a receptive field of 28 at last layer.**"
      ]
    },
    {
      "cell_type": "code",
      "metadata": {
        "id": "W8Qoobjka0y0"
      },
      "source": [
        "from tqdm import tqdm\r\n",
        "import numpy as np\r\n",
        "\r\n",
        "class Model:\r\n",
        "    def __init__(self, model, device, optimizer, l1_decay=0.0, l2_decay=0.0):\r\n",
        "       \r\n",
        "        self.model = model\r\n",
        "        self.device = device\r\n",
        "        self.optimizer = optimizer\r\n",
        "\r\n",
        "        self.train_losses = [] \r\n",
        "        self.val_losses = [] \r\n",
        "        self.train_acc = [] \r\n",
        "        self.val_acc = [] \r\n",
        "        self.misclassified_images = {} # store misclassified images for the best model\r\n",
        "\r\n",
        "        self.l1_decay = l1_decay # l1 weight decay value\r\n",
        "        self.l2_decay = l2_decay # l2 weight decay value\r\n",
        "\r\n",
        "        self.minimum_test_loss = np.Inf\r\n",
        "        self.maximum_test_acc = 0.0\r\n",
        "\r\n",
        "\r\n",
        "    def train(self, train_loader, epoch, checkpoint_fpath = None):\r\n",
        "       \r\n",
        "        running_loss = 0.0\r\n",
        "        running_correct = 0\r\n",
        "\r\n",
        "        self.model.train()\r\n",
        "\r\n",
        "        pbar = tqdm(train_loader)\r\n",
        "        for batch_idx, (data, target) in enumerate(pbar):\r\n",
        "            data, target = data.to(self.device), target.to(self.device)\r\n",
        "            \r\n",
        "            self.optimizer.zero_grad()\r\n",
        "            \r\n",
        "            output = self.model(data)\r\n",
        "            loss = F.nll_loss(output, target)\r\n",
        "\r\n",
        "            if self.l1_decay>0.0:\r\n",
        "                loss += regularize_loss(self.model, loss, self.l1_decay, 1)\r\n",
        "            if self.l2_decay>0.0:\r\n",
        "                loss += regularize_loss(self.model, loss, self.l2_decay, 2)\r\n",
        "\r\n",
        "            _, preds = torch.max(output.data, 1)\r\n",
        "            loss.backward()\r\n",
        "            self.optimizer.step()\r\n",
        "\r\n",
        "            #calculate training running loss\r\n",
        "            running_loss += loss.item()\r\n",
        "            running_correct += (preds == target).sum().item()\r\n",
        "            pbar.set_description(desc= f'loss={loss.item()} batch_id={batch_idx}')\r\n",
        "\r\n",
        "        r_total_loss = running_loss/len(train_loader.dataset)\r\n",
        "        r_total_acc = 100. * running_correct/len(train_loader.dataset)\r\n",
        "\r\n",
        "        self.train_losses.append(r_total_loss)\r\n",
        "        self.train_acc.append(r_total_acc)\r\n",
        "        print(\"\\n\")\r\n",
        "        print(f\"  TRAIN avg loss: {r_total_loss:.4f} train acc: {r_total_acc:.4f}\\n\")\r\n",
        "\r\n",
        "    def test(self, val_loader, epoch, checkpoint_fpath = None):\r\n",
        "        \r\n",
        "        running_loss = 0.0\r\n",
        "        running_correct = 0\r\n",
        "\r\n",
        "        self.model.eval()\r\n",
        "      \r\n",
        "        with torch.no_grad():\r\n",
        "            for data, target in val_loader:\r\n",
        "                data, target = data.to(self.device), target.to(self.device)\r\n",
        "                output = self.model(data)\r\n",
        "                running_loss += F.nll_loss(output, target, reduction='sum').item()  # sum up batch loss\r\n",
        "                pred = output.argmax(dim=1, keepdim=True)  # get the index of the max log-probability\r\n",
        "\r\n",
        "                is_correct = pred.eq(target.view_as(pred))\r\n",
        "                misclass_indx = (is_correct==0).nonzero()[:,0]\r\n",
        "                \r\n",
        "                for indx in misclass_indx:\r\n",
        "                \r\n",
        "                    if str(epoch) not in self.misclassified_images:\r\n",
        "                        self.misclassified_images[str(epoch)] = []\r\n",
        "                \r\n",
        "                    self.misclassified_images[str(epoch)].append({\r\n",
        "                        \"target\" : target[indx],\r\n",
        "                        \"pred\" : pred[indx],\r\n",
        "                        \"img\" : data[indx]\r\n",
        "                    })\r\n",
        "\r\n",
        "                running_correct += pred.eq(target.view_as(pred)).sum().item()\r\n",
        "\r\n",
        "        r_total_loss = running_loss/len(val_loader.dataset)\r\n",
        "        r_total_acc = 100.*running_correct/len(val_loader.dataset)\r\n",
        "\r\n",
        "        # check and save best model\r\n",
        "        if(r_total_acc>=self.maximum_test_acc):\r\n",
        "            self.maximum_test_acc = r_total_acc\r\n",
        "            if checkpoint_fpath:\r\n",
        "                self.save_checkpoint(epoch, checkpoint_fpath)\r\n",
        "                print(f\"  Best Model Saved!!!\\n\")\r\n",
        "            else:\r\n",
        "                print(f\"  Couldn't save the model. Path not defined!!!\\n\")\r\n",
        "\r\n",
        "        self.val_losses.append(r_total_loss)\r\n",
        "        self.val_acc.append(r_total_acc)\r\n",
        "        \r\n",
        "        print(\"\\n\")\r\n",
        "        print(f\"  TEST avg loss: {r_total_loss:.4f} test acc: {r_total_acc:.4f}\\n\")\r\n",
        "\r\n",
        "\r\n",
        "    def save_checkpoint(self, epoch, checkpoint_fpath):\r\n",
        "        \"\"\"\r\n",
        "        Args:\r\n",
        "            epoch : epoch value\r\n",
        "            checkpoint_fpath : file path to store state dict of model\r\n",
        "        \"\"\"\r\n",
        "        checkpoint = {\r\n",
        "          'epoch' : epoch,\r\n",
        "          'misclassified_images' : self.misclassified_images[str(epoch)],\r\n",
        "          'valid_max_acc': self.maximum_test_acc,\r\n",
        "          'state_dict': self.model.state_dict(),\r\n",
        "          'optimizer': self.optimizer.state_dict(),\r\n",
        "        }\r\n",
        "        save_ckp(checkpoint, checkpoint_fpath)"
      ],
      "execution_count": null,
      "outputs": []
    },
    {
      "cell_type": "code",
      "metadata": {
        "id": "l7QbRNVAUT-n"
      },
      "source": [
        "# create new directories to store state_dict and stats of our model\r\n",
        "#!mkdir stats\r\n",
        "#!mkdir weights"
      ],
      "execution_count": null,
      "outputs": []
    },
    {
      "cell_type": "code",
      "metadata": {
        "id": "NKAFju-eTT-h"
      },
      "source": [
        "import json\r\n",
        "import os\r\n",
        "\r\n",
        "def run(model_name, l1_decay, l2_decay):\r\n",
        "        \r\n",
        "    # initialize network\r\n",
        "    net = Net().to(device)\r\n",
        "    \r\n",
        "    # initialize optimizer with a scheduler\r\n",
        "    optimizer = optim.SGD(net.parameters(), lr=0.1, momentum=0.9)\r\n",
        "    scheduler = StepLR(optimizer, step_size=8, gamma=0.1)\r\n",
        "    \r\n",
        "    # number of epochs\r\n",
        "    EPOCHS = 25\r\n",
        "    \r\n",
        "    # initialize our Model parameters\r\n",
        "    model = Model(net, device, optimizer, l1_decay, l2_decay)\r\n",
        "    \r\n",
        "    # define path for storing state dict for network\r\n",
        "    MODEL_PATH = \"./weights/model_{}.pt\".format(model_name)\r\n",
        "    \r\n",
        "    # TRAINING AND EVALUATION PROCESS\r\n",
        "    for epoch in range(1, EPOCHS+1):\r\n",
        "        print(f\"\\nEPOCH : {epoch}\\n\")\r\n",
        "        model.train(train_loader, epoch, MODEL_PATH)\r\n",
        "        scheduler.step()\r\n",
        "        model.test(val_loader, epoch, MODEL_PATH)\r\n",
        "\r\n",
        "    # get train/test losses and accuracy scores for each epoch\r\n",
        "    result = {f'{model_name}':{'train_losses':model.train_losses, 'val_losses':model.val_losses,\r\n",
        "                            'train_acc':model.train_acc, 'val_acc':model.val_acc}}\r\n",
        "\r\n",
        "  \r\n",
        "    # store the result\r\n",
        "    file_path = \"./stats/acc_losses_{}.json\".format(model_name)\r\n",
        "    if not os.path.exists(file_path):\r\n",
        "        with open(file_path, \"w\") as f:\r\n",
        "            json.dump({'status':200}, f)\r\n",
        "    \r\n",
        "    with open(file_path) as f:\r\n",
        "        data = json.load(f)\r\n",
        "    \r\n",
        "    data.update(result)\r\n",
        "    \r\n",
        "    with open(file_path, \"w\") as f:\r\n",
        "        json.dump(data, f)"
      ],
      "execution_count": null,
      "outputs": []
    },
    {
      "cell_type": "code",
      "metadata": {
        "colab": {
          "base_uri": "https://localhost:8080/"
        },
        "id": "vec4cP9Ca9hb",
        "outputId": "3967f2a5-24ff-4d1a-bc61-320110fa7a8e"
      },
      "source": [
        "run(\"mnist_model_03\", 0.0, 0.0005)"
      ],
      "execution_count": null,
      "outputs": [
        {
          "output_type": "stream",
          "text": [
            "\r  0%|          | 0/525 [00:00<?, ?it/s]"
          ],
          "name": "stderr"
        },
        {
          "output_type": "stream",
          "text": [
            "\n",
            "EPOCH : 1\n",
            "\n"
          ],
          "name": "stdout"
        },
        {
          "output_type": "stream",
          "text": [
            "/usr/local/lib/python3.6/dist-packages/ipykernel_launcher.py:48: UserWarning: Implicit dimension choice for log_softmax has been deprecated. Change the call to include dim=X as an argument.\n",
            "loss=0.19670796394348145 batch_id=524: 100%|██████████| 525/525 [00:28<00:00, 18.67it/s]"
          ],
          "name": "stderr"
        },
        {
          "output_type": "stream",
          "text": [
            "\n",
            "\n",
            "  TRAIN avg loss: 0.0085 train acc: 92.4911\n",
            "\n"
          ],
          "name": "stdout"
        },
        {
          "output_type": "stream",
          "text": [
            "\n",
            "/usr/local/lib/python3.6/dist-packages/ipykernel_launcher.py:95: UserWarning: This overload of nonzero is deprecated:\n",
            "\tnonzero()\n",
            "Consider using one of the following signatures instead:\n",
            "\tnonzero(*, bool as_tuple) (Triggered internally at  /pytorch/torch/csrc/utils/python_arg_parser.cpp:882.)\n",
            "  0%|          | 0/525 [00:00<?, ?it/s]"
          ],
          "name": "stderr"
        },
        {
          "output_type": "stream",
          "text": [
            "  Best Model Saved!!!\n",
            "\n",
            "\n",
            "\n",
            "  TEST avg loss: 0.0639 test acc: 97.9524\n",
            "\n",
            "\n",
            "EPOCH : 2\n",
            "\n"
          ],
          "name": "stdout"
        },
        {
          "output_type": "stream",
          "text": [
            "loss=0.11060844361782074 batch_id=524: 100%|██████████| 525/525 [00:28<00:00, 18.18it/s]"
          ],
          "name": "stderr"
        },
        {
          "output_type": "stream",
          "text": [
            "\n",
            "\n",
            "  TRAIN avg loss: 0.0038 train acc: 97.6429\n",
            "\n"
          ],
          "name": "stdout"
        },
        {
          "output_type": "stream",
          "text": [
            "\n",
            "  0%|          | 0/525 [00:00<?, ?it/s]"
          ],
          "name": "stderr"
        },
        {
          "output_type": "stream",
          "text": [
            "  Best Model Saved!!!\n",
            "\n",
            "\n",
            "\n",
            "  TEST avg loss: 0.0538 test acc: 98.3095\n",
            "\n",
            "\n",
            "EPOCH : 3\n",
            "\n"
          ],
          "name": "stdout"
        },
        {
          "output_type": "stream",
          "text": [
            "loss=0.11989894509315491 batch_id=524: 100%|██████████| 525/525 [00:27<00:00, 18.75it/s]"
          ],
          "name": "stderr"
        },
        {
          "output_type": "stream",
          "text": [
            "\n",
            "\n",
            "  TRAIN avg loss: 0.0036 train acc: 98.0565\n",
            "\n"
          ],
          "name": "stdout"
        },
        {
          "output_type": "stream",
          "text": [
            "\n",
            "  0%|          | 0/525 [00:00<?, ?it/s]"
          ],
          "name": "stderr"
        },
        {
          "output_type": "stream",
          "text": [
            "  Best Model Saved!!!\n",
            "\n",
            "\n",
            "\n",
            "  TEST avg loss: 0.0457 test acc: 98.4286\n",
            "\n",
            "\n",
            "EPOCH : 4\n",
            "\n"
          ],
          "name": "stdout"
        },
        {
          "output_type": "stream",
          "text": [
            "loss=0.1802409291267395 batch_id=524: 100%|██████████| 525/525 [00:27<00:00, 18.97it/s]"
          ],
          "name": "stderr"
        },
        {
          "output_type": "stream",
          "text": [
            "\n",
            "\n",
            "  TRAIN avg loss: 0.0034 train acc: 98.2440\n",
            "\n"
          ],
          "name": "stdout"
        },
        {
          "output_type": "stream",
          "text": [
            "\n",
            "  0%|          | 0/525 [00:00<?, ?it/s]"
          ],
          "name": "stderr"
        },
        {
          "output_type": "stream",
          "text": [
            "  Best Model Saved!!!\n",
            "\n",
            "\n",
            "\n",
            "  TEST avg loss: 0.0483 test acc: 98.4643\n",
            "\n",
            "\n",
            "EPOCH : 5\n",
            "\n"
          ],
          "name": "stdout"
        },
        {
          "output_type": "stream",
          "text": [
            "loss=0.12869039177894592 batch_id=524: 100%|██████████| 525/525 [00:26<00:00, 19.60it/s]"
          ],
          "name": "stderr"
        },
        {
          "output_type": "stream",
          "text": [
            "\n",
            "\n",
            "  TRAIN avg loss: 0.0032 train acc: 98.4702\n",
            "\n"
          ],
          "name": "stdout"
        },
        {
          "output_type": "stream",
          "text": [
            "\n",
            "  0%|          | 0/525 [00:00<?, ?it/s]"
          ],
          "name": "stderr"
        },
        {
          "output_type": "stream",
          "text": [
            "  Best Model Saved!!!\n",
            "\n",
            "\n",
            "\n",
            "  TEST avg loss: 0.0481 test acc: 98.5238\n",
            "\n",
            "\n",
            "EPOCH : 6\n",
            "\n"
          ],
          "name": "stdout"
        },
        {
          "output_type": "stream",
          "text": [
            "loss=0.2680934965610504 batch_id=524: 100%|██████████| 525/525 [00:27<00:00, 18.90it/s]"
          ],
          "name": "stderr"
        },
        {
          "output_type": "stream",
          "text": [
            "\n",
            "\n",
            "  TRAIN avg loss: 0.0032 train acc: 98.4583\n",
            "\n"
          ],
          "name": "stdout"
        },
        {
          "output_type": "stream",
          "text": [
            "\n",
            "  0%|          | 0/525 [00:00<?, ?it/s]"
          ],
          "name": "stderr"
        },
        {
          "output_type": "stream",
          "text": [
            "  Best Model Saved!!!\n",
            "\n",
            "\n",
            "\n",
            "  TEST avg loss: 0.0384 test acc: 98.7738\n",
            "\n",
            "\n",
            "EPOCH : 7\n",
            "\n"
          ],
          "name": "stdout"
        },
        {
          "output_type": "stream",
          "text": [
            "loss=0.2677702009677887 batch_id=524: 100%|██████████| 525/525 [00:27<00:00, 19.11it/s]"
          ],
          "name": "stderr"
        },
        {
          "output_type": "stream",
          "text": [
            "\n",
            "\n",
            "  TRAIN avg loss: 0.0032 train acc: 98.4167\n",
            "\n"
          ],
          "name": "stdout"
        },
        {
          "output_type": "stream",
          "text": [
            "\n",
            "  0%|          | 0/525 [00:00<?, ?it/s]"
          ],
          "name": "stderr"
        },
        {
          "output_type": "stream",
          "text": [
            "\n",
            "\n",
            "  TEST avg loss: 0.0435 test acc: 98.6667\n",
            "\n",
            "\n",
            "EPOCH : 8\n",
            "\n"
          ],
          "name": "stdout"
        },
        {
          "output_type": "stream",
          "text": [
            "loss=0.1727241575717926 batch_id=524: 100%|██████████| 525/525 [00:27<00:00, 18.95it/s]"
          ],
          "name": "stderr"
        },
        {
          "output_type": "stream",
          "text": [
            "\n",
            "\n",
            "  TRAIN avg loss: 0.0030 train acc: 98.7589\n",
            "\n"
          ],
          "name": "stdout"
        },
        {
          "output_type": "stream",
          "text": [
            "\n",
            "  0%|          | 0/525 [00:00<?, ?it/s]"
          ],
          "name": "stderr"
        },
        {
          "output_type": "stream",
          "text": [
            "  Best Model Saved!!!\n",
            "\n",
            "\n",
            "\n",
            "  TEST avg loss: 0.0407 test acc: 98.8690\n",
            "\n",
            "\n",
            "EPOCH : 9\n",
            "\n"
          ],
          "name": "stdout"
        },
        {
          "output_type": "stream",
          "text": [
            "loss=0.10953015834093094 batch_id=524: 100%|██████████| 525/525 [00:27<00:00, 19.31it/s]"
          ],
          "name": "stderr"
        },
        {
          "output_type": "stream",
          "text": [
            "\n",
            "\n",
            "  TRAIN avg loss: 0.0025 train acc: 99.2560\n",
            "\n"
          ],
          "name": "stdout"
        },
        {
          "output_type": "stream",
          "text": [
            "\n",
            "  0%|          | 0/525 [00:00<?, ?it/s]"
          ],
          "name": "stderr"
        },
        {
          "output_type": "stream",
          "text": [
            "  Best Model Saved!!!\n",
            "\n",
            "\n",
            "\n",
            "  TEST avg loss: 0.0216 test acc: 99.3095\n",
            "\n",
            "\n",
            "EPOCH : 10\n",
            "\n"
          ],
          "name": "stdout"
        },
        {
          "output_type": "stream",
          "text": [
            "loss=0.20707768201828003 batch_id=524: 100%|██████████| 525/525 [00:27<00:00, 18.85it/s]"
          ],
          "name": "stderr"
        },
        {
          "output_type": "stream",
          "text": [
            "\n",
            "\n",
            "  TRAIN avg loss: 0.0023 train acc: 99.3512\n",
            "\n"
          ],
          "name": "stdout"
        },
        {
          "output_type": "stream",
          "text": [
            "\n",
            "  0%|          | 0/525 [00:00<?, ?it/s]"
          ],
          "name": "stderr"
        },
        {
          "output_type": "stream",
          "text": [
            "  Best Model Saved!!!\n",
            "\n",
            "\n",
            "\n",
            "  TEST avg loss: 0.0225 test acc: 99.3214\n",
            "\n",
            "\n",
            "EPOCH : 11\n",
            "\n"
          ],
          "name": "stdout"
        },
        {
          "output_type": "stream",
          "text": [
            "loss=0.10975837707519531 batch_id=524: 100%|██████████| 525/525 [00:27<00:00, 19.22it/s]"
          ],
          "name": "stderr"
        },
        {
          "output_type": "stream",
          "text": [
            "\n",
            "\n",
            "  TRAIN avg loss: 0.0023 train acc: 99.3720\n",
            "\n"
          ],
          "name": "stdout"
        },
        {
          "output_type": "stream",
          "text": [
            "\n",
            "  0%|          | 0/525 [00:00<?, ?it/s]"
          ],
          "name": "stderr"
        },
        {
          "output_type": "stream",
          "text": [
            "\n",
            "\n",
            "  TEST avg loss: 0.0227 test acc: 99.2738\n",
            "\n",
            "\n",
            "EPOCH : 12\n",
            "\n"
          ],
          "name": "stdout"
        },
        {
          "output_type": "stream",
          "text": [
            "loss=0.11618572473526001 batch_id=524: 100%|██████████| 525/525 [00:28<00:00, 18.73it/s]"
          ],
          "name": "stderr"
        },
        {
          "output_type": "stream",
          "text": [
            "\n",
            "\n",
            "  TRAIN avg loss: 0.0023 train acc: 99.3571\n",
            "\n"
          ],
          "name": "stdout"
        },
        {
          "output_type": "stream",
          "text": [
            "\n",
            "  0%|          | 0/525 [00:00<?, ?it/s]"
          ],
          "name": "stderr"
        },
        {
          "output_type": "stream",
          "text": [
            "  Best Model Saved!!!\n",
            "\n",
            "\n",
            "\n",
            "  TEST avg loss: 0.0216 test acc: 99.4167\n",
            "\n",
            "\n",
            "EPOCH : 13\n",
            "\n"
          ],
          "name": "stdout"
        },
        {
          "output_type": "stream",
          "text": [
            "loss=0.10723783820867538 batch_id=524: 100%|██████████| 525/525 [00:27<00:00, 19.11it/s]\n"
          ],
          "name": "stderr"
        },
        {
          "output_type": "stream",
          "text": [
            "\n",
            "\n",
            "  TRAIN avg loss: 0.0023 train acc: 99.4167\n",
            "\n"
          ],
          "name": "stdout"
        },
        {
          "output_type": "stream",
          "text": [
            "\r  0%|          | 0/525 [00:00<?, ?it/s]"
          ],
          "name": "stderr"
        },
        {
          "output_type": "stream",
          "text": [
            "\n",
            "\n",
            "  TEST avg loss: 0.0219 test acc: 99.3929\n",
            "\n",
            "\n",
            "EPOCH : 14\n",
            "\n"
          ],
          "name": "stdout"
        },
        {
          "output_type": "stream",
          "text": [
            "loss=0.10888851433992386 batch_id=524: 100%|██████████| 525/525 [00:27<00:00, 18.82it/s]"
          ],
          "name": "stderr"
        },
        {
          "output_type": "stream",
          "text": [
            "\n",
            "\n",
            "  TRAIN avg loss: 0.0022 train acc: 99.4196\n",
            "\n"
          ],
          "name": "stdout"
        },
        {
          "output_type": "stream",
          "text": [
            "\n",
            "  0%|          | 0/525 [00:00<?, ?it/s]"
          ],
          "name": "stderr"
        },
        {
          "output_type": "stream",
          "text": [
            "  Best Model Saved!!!\n",
            "\n",
            "\n",
            "\n",
            "  TEST avg loss: 0.0202 test acc: 99.4405\n",
            "\n",
            "\n",
            "EPOCH : 15\n",
            "\n"
          ],
          "name": "stdout"
        },
        {
          "output_type": "stream",
          "text": [
            "loss=0.11150078475475311 batch_id=524: 100%|██████████| 525/525 [00:28<00:00, 18.73it/s]"
          ],
          "name": "stderr"
        },
        {
          "output_type": "stream",
          "text": [
            "\n",
            "\n",
            "  TRAIN avg loss: 0.0022 train acc: 99.3958\n",
            "\n"
          ],
          "name": "stdout"
        },
        {
          "output_type": "stream",
          "text": [
            "\n",
            "  0%|          | 0/525 [00:00<?, ?it/s]"
          ],
          "name": "stderr"
        },
        {
          "output_type": "stream",
          "text": [
            "\n",
            "\n",
            "  TEST avg loss: 0.0215 test acc: 99.3690\n",
            "\n",
            "\n",
            "EPOCH : 16\n",
            "\n"
          ],
          "name": "stdout"
        },
        {
          "output_type": "stream",
          "text": [
            "loss=0.10501279681921005 batch_id=524: 100%|██████████| 525/525 [00:27<00:00, 19.22it/s]"
          ],
          "name": "stderr"
        },
        {
          "output_type": "stream",
          "text": [
            "\n",
            "\n",
            "  TRAIN avg loss: 0.0022 train acc: 99.4226\n",
            "\n"
          ],
          "name": "stdout"
        },
        {
          "output_type": "stream",
          "text": [
            "\n",
            "  0%|          | 0/525 [00:00<?, ?it/s]"
          ],
          "name": "stderr"
        },
        {
          "output_type": "stream",
          "text": [
            "\n",
            "\n",
            "  TEST avg loss: 0.0208 test acc: 99.3810\n",
            "\n",
            "\n",
            "EPOCH : 17\n",
            "\n"
          ],
          "name": "stdout"
        },
        {
          "output_type": "stream",
          "text": [
            "loss=0.12649917602539062 batch_id=524: 100%|██████████| 525/525 [00:27<00:00, 19.02it/s]\n"
          ],
          "name": "stderr"
        },
        {
          "output_type": "stream",
          "text": [
            "\n",
            "\n",
            "  TRAIN avg loss: 0.0022 train acc: 99.4940\n",
            "\n"
          ],
          "name": "stdout"
        },
        {
          "output_type": "stream",
          "text": [
            "\r  0%|          | 0/525 [00:00<?, ?it/s]"
          ],
          "name": "stderr"
        },
        {
          "output_type": "stream",
          "text": [
            "\n",
            "\n",
            "  TEST avg loss: 0.0214 test acc: 99.4167\n",
            "\n",
            "\n",
            "EPOCH : 18\n",
            "\n"
          ],
          "name": "stdout"
        },
        {
          "output_type": "stream",
          "text": [
            "loss=0.12080404162406921 batch_id=524: 100%|██████████| 525/525 [00:27<00:00, 18.93it/s]"
          ],
          "name": "stderr"
        },
        {
          "output_type": "stream",
          "text": [
            "\n",
            "\n",
            "  TRAIN avg loss: 0.0021 train acc: 99.5476\n",
            "\n"
          ],
          "name": "stdout"
        },
        {
          "output_type": "stream",
          "text": [
            "\n",
            "  0%|          | 0/525 [00:00<?, ?it/s]"
          ],
          "name": "stderr"
        },
        {
          "output_type": "stream",
          "text": [
            "\n",
            "\n",
            "  TEST avg loss: 0.0201 test acc: 99.4167\n",
            "\n",
            "\n",
            "EPOCH : 19\n",
            "\n"
          ],
          "name": "stdout"
        },
        {
          "output_type": "stream",
          "text": [
            "loss=0.10530492663383484 batch_id=524: 100%|██████████| 525/525 [00:28<00:00, 18.74it/s]"
          ],
          "name": "stderr"
        },
        {
          "output_type": "stream",
          "text": [
            "\n",
            "\n",
            "  TRAIN avg loss: 0.0021 train acc: 99.5268\n",
            "\n"
          ],
          "name": "stdout"
        },
        {
          "output_type": "stream",
          "text": [
            "\n",
            "  0%|          | 0/525 [00:00<?, ?it/s]"
          ],
          "name": "stderr"
        },
        {
          "output_type": "stream",
          "text": [
            "\n",
            "\n",
            "  TEST avg loss: 0.0206 test acc: 99.4167\n",
            "\n",
            "\n",
            "EPOCH : 20\n",
            "\n"
          ],
          "name": "stdout"
        },
        {
          "output_type": "stream",
          "text": [
            "loss=0.19627010822296143 batch_id=524: 100%|██████████| 525/525 [00:27<00:00, 19.20it/s]\n"
          ],
          "name": "stderr"
        },
        {
          "output_type": "stream",
          "text": [
            "\n",
            "\n",
            "  TRAIN avg loss: 0.0021 train acc: 99.5268\n",
            "\n"
          ],
          "name": "stdout"
        },
        {
          "output_type": "stream",
          "text": [
            "\r  0%|          | 0/525 [00:00<?, ?it/s]"
          ],
          "name": "stderr"
        },
        {
          "output_type": "stream",
          "text": [
            "\n",
            "\n",
            "  TEST avg loss: 0.0210 test acc: 99.3690\n",
            "\n",
            "\n",
            "EPOCH : 21\n",
            "\n"
          ],
          "name": "stdout"
        },
        {
          "output_type": "stream",
          "text": [
            "loss=0.11285071074962616 batch_id=524: 100%|██████████| 525/525 [00:27<00:00, 19.01it/s]"
          ],
          "name": "stderr"
        },
        {
          "output_type": "stream",
          "text": [
            "\n",
            "\n",
            "  TRAIN avg loss: 0.0021 train acc: 99.5327\n",
            "\n"
          ],
          "name": "stdout"
        },
        {
          "output_type": "stream",
          "text": [
            "\n",
            "  0%|          | 0/525 [00:00<?, ?it/s]"
          ],
          "name": "stderr"
        },
        {
          "output_type": "stream",
          "text": [
            "\n",
            "\n",
            "  TEST avg loss: 0.0211 test acc: 99.3690\n",
            "\n",
            "\n",
            "EPOCH : 22\n",
            "\n"
          ],
          "name": "stdout"
        },
        {
          "output_type": "stream",
          "text": [
            "loss=0.1195199266076088 batch_id=524: 100%|██████████| 525/525 [00:27<00:00, 18.96it/s]"
          ],
          "name": "stderr"
        },
        {
          "output_type": "stream",
          "text": [
            "\n",
            "\n",
            "  TRAIN avg loss: 0.0021 train acc: 99.5030\n",
            "\n"
          ],
          "name": "stdout"
        },
        {
          "output_type": "stream",
          "text": [
            "\n",
            "  0%|          | 0/525 [00:00<?, ?it/s]"
          ],
          "name": "stderr"
        },
        {
          "output_type": "stream",
          "text": [
            "\n",
            "\n",
            "  TEST avg loss: 0.0207 test acc: 99.3929\n",
            "\n",
            "\n",
            "EPOCH : 23\n",
            "\n"
          ],
          "name": "stdout"
        },
        {
          "output_type": "stream",
          "text": [
            "loss=0.11619294434785843 batch_id=524: 100%|██████████| 525/525 [00:27<00:00, 19.23it/s]"
          ],
          "name": "stderr"
        },
        {
          "output_type": "stream",
          "text": [
            "\n",
            "\n",
            "  TRAIN avg loss: 0.0021 train acc: 99.4851\n",
            "\n"
          ],
          "name": "stdout"
        },
        {
          "output_type": "stream",
          "text": [
            "\n",
            "  0%|          | 0/525 [00:00<?, ?it/s]"
          ],
          "name": "stderr"
        },
        {
          "output_type": "stream",
          "text": [
            "\n",
            "\n",
            "  TEST avg loss: 0.0205 test acc: 99.3810\n",
            "\n",
            "\n",
            "EPOCH : 24\n",
            "\n"
          ],
          "name": "stdout"
        },
        {
          "output_type": "stream",
          "text": [
            "loss=0.13474887609481812 batch_id=524: 100%|██████████| 525/525 [00:27<00:00, 19.19it/s]"
          ],
          "name": "stderr"
        },
        {
          "output_type": "stream",
          "text": [
            "\n",
            "\n",
            "  TRAIN avg loss: 0.0021 train acc: 99.4792\n",
            "\n"
          ],
          "name": "stdout"
        },
        {
          "output_type": "stream",
          "text": [
            "\n",
            "  0%|          | 0/525 [00:00<?, ?it/s]"
          ],
          "name": "stderr"
        },
        {
          "output_type": "stream",
          "text": [
            "\n",
            "\n",
            "  TEST avg loss: 0.0204 test acc: 99.3810\n",
            "\n",
            "\n",
            "EPOCH : 25\n",
            "\n"
          ],
          "name": "stdout"
        },
        {
          "output_type": "stream",
          "text": [
            "loss=0.10966537147760391 batch_id=524: 100%|██████████| 525/525 [00:27<00:00, 18.95it/s]"
          ],
          "name": "stderr"
        },
        {
          "output_type": "stream",
          "text": [
            "\n",
            "\n",
            "  TRAIN avg loss: 0.0021 train acc: 99.5238\n",
            "\n"
          ],
          "name": "stdout"
        },
        {
          "output_type": "stream",
          "text": [
            "\n"
          ],
          "name": "stderr"
        },
        {
          "output_type": "stream",
          "text": [
            "\n",
            "\n",
            "  TEST avg loss: 0.0202 test acc: 99.4286\n",
            "\n"
          ],
          "name": "stdout"
        }
      ]
    },
    {
      "cell_type": "markdown",
      "metadata": {
        "id": "qjr-KcCLa1wq"
      },
      "source": [
        "# Accuracy achieved after 25 epochs :\r\n",
        "training: 99.52%\r\n",
        "testing:99.42%\r\n",
        "# Notes\r\n",
        "I could probably get a better accuracy playing around with the no. of epochs and the train-test split."
      ]
    },
    {
      "cell_type": "markdown",
      "metadata": {
        "id": "KGxvCPgvb9zw"
      },
      "source": [
        "# Visualizations"
      ]
    },
    {
      "cell_type": "code",
      "metadata": {
        "id": "GFLwSjYJSMLw"
      },
      "source": [
        "def get_misclassified_images(model_name):\r\n",
        "   \r\n",
        "    net = Net().to(device)\r\n",
        "    optimizer = optim.SGD(net.parameters(), lr=0.1, momentum=0.9)\r\n",
        "    \r\n",
        "    ckp_path = f\"./weights/model_{model_name}.pt\"\r\n",
        "    \r\n",
        "    model, optimizer, epoch, val_max_acc, misclassified_images = load_ckp(ckp_path, net, optimizer)\r\n",
        "    \r\n",
        "    return misclassified_images\r\n",
        "\r\n",
        "\r\n",
        "def validation_stat(name, type_='acc'):\r\n",
        "        \r\n",
        "    with open(stats_file_path) as f:\r\n",
        "        data = json.load(f)\r\n",
        "        \r\n",
        "    if type_==\"acc\":\r\n",
        "        return data[f\"{name}\"][\"val_acc\"] \r\n",
        "    else:\r\n",
        "        return data[f\"{name}\"][\"val_losses\"]"
      ],
      "execution_count": null,
      "outputs": []
    },
    {
      "cell_type": "code",
      "metadata": {
        "colab": {
          "base_uri": "https://localhost:8080/",
          "height": 605
        },
        "id": "xUu0adQGZ7_S",
        "outputId": "1c2dd15b-959d-4942-9e78-6e711f0d6721"
      },
      "source": [
        "epoch_count = range(1, 26)\r\n",
        "\r\n",
        "# plot accuracy or loss graph\r\n",
        "def plot_graphs(name, type_='acc'):\r\n",
        "    \"\r\n",
        "    fig = plt.figure(figsize=(10,10))\r\n",
        "    plt.plot(epoch_count, validation_stat(name, type_))\r\n",
        "    \r\n",
        "    plt.legend(name)\r\n",
        "    plt.xlabel('Epoch')\r\n",
        "    plt.ylabel(type_)\r\n",
        "    plt.show();\r\n",
        "# plot misclassified images\r\n",
        "\r\n",
        "def plot_misclassified_images(name, n=25):\r\n",
        "    \r\n",
        "    figure = plt.figure(figsize=(10,10))\r\n",
        "    \r\n",
        "    images = get_misclassified_images(name)[:n]\r\n",
        "    \r\n",
        "    for i in range(1, n+1):\r\n",
        "        plt.subplot(5,5,i)\r\n",
        "        plt.axis('off')\r\n",
        "        plt.imshow(images[i-1][\"img\"].cpu().numpy()[0], cmap='gray_r')\r\n",
        "        plt.title(\"Predicted : {} \\nActual : {}\".format(images[i-1][\"pred\"][0].cpu().numpy(), images[i-1][\"target\"].cpu().numpy()))\r\n",
        "\r\n",
        "    plt.tight_layout()\r\n",
        "# model name\r\n",
        "name = \"mnist_model_03\"\r\n",
        "# stats file path where we have stores accuracy and loss scores\r\n",
        "stats_file_path = \"./stats/acc_losses_{}.json\".format(name)\r\n",
        "# plot accuracy graph\r\n",
        "plot_graphs(name, 'acc')"
      ],
      "execution_count": null,
      "outputs": [
        {
          "output_type": "display_data",
          "data": {
            "image/png": "[encoded data removed]",
            "text/plain": [
              "<Figure size 720x720 with 1 Axes>"
            ]
          },
          "metadata": {
            "tags": [],
            "needs_background": "light"
          }
        }
      ]
    },
    {
      "cell_type": "code",
      "metadata": {
        "colab": {
          "base_uri": "https://localhost:8080/",
          "height": 605
        },
        "id": "zLM7u4lsaELR",
        "outputId": "8aab287c-3ec1-4667-c661-199a8a6f5162"
      },
      "source": [
        "# plot loss graph\r\n",
        "plot_graphs(name, 'losses')"
      ],
      "execution_count": null,
      "outputs": [
        {
          "output_type": "display_data",
          "data": {
            "image/png": "[encoded data removed]",
            "text/plain": [
              "<Figure size 720x720 with 1 Axes>"
            ]
          },
          "metadata": {
            "tags": [],
            "needs_background": "light"
          }
        }
      ]
    },
    {
      "cell_type": "code",
      "metadata": {
        "colab": {
          "base_uri": "https://localhost:8080/",
          "height": 728
        },
        "id": "8OMUo5m1aKv8",
        "outputId": "cb114aad-7d6f-493f-93fa-771cfbbb3747"
      },
      "source": [
        "# plot misclassified images for our best model\r\n",
        "plot_misclassified_images(name)"
      ],
      "execution_count": null,
      "outputs": [
        {
          "output_type": "display_data",
          "data": {
            "image/png": "[encoded data removed]",
            "text/plain": [
              "<Figure size 720x720 with 25 Axes>"
            ]
          },
          "metadata": {
            "tags": [],
            "needs_background": "light"
          }
        }
      ]
    },
    {
      "cell_type": "code",
      "metadata": {
        "id": "71mQBcjzawoR"
      },
      "source": [
        ""
      ],
      "execution_count": null,
      "outputs": []
    }
  ]
}